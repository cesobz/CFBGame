{
 "cells": [
  {
   "cell_type": "code",
   "execution_count": 2,
   "id": "822ee228",
   "metadata": {},
   "outputs": [
    {
     "name": "stdout",
     "output_type": "stream",
     "text": [
      "Cochroach, Foot, Bomb?: foot\n",
      "Computer:  bomb\n",
      "Player:  foot\n",
      "You lose!\n",
      "Would you like to play again? (yes/no): yes\n",
      "Cochroach, Foot, Bomb?: cocroach\n",
      "Cochroach, Foot, Bomb?: cockroach\n",
      "Computer:  foot\n",
      "Player:  cockroach\n",
      "You lose!\n",
      "Would you like to play again? (yes/no): no\n",
      "\n",
      "Thank you for playing. Goodbye!\n"
     ]
    }
   ],
   "source": [
    "import random\n",
    "\n",
    "while True:\n",
    "    choices = ['cockroach', 'foot', 'bomb']\n",
    "\n",
    "    computer = random.choice(choices)\n",
    "    player = None\n",
    "\n",
    "    while player not in choices:\n",
    "        player = input('Cockroach, Foot, Bomb?: ').lower()\n",
    "\n",
    "    if player == computer:\n",
    "        print(\"Computer: \", computer)\n",
    "        print(\"Player: \", player)\n",
    "        print(\"Game Tied!\")\n",
    "    elif player == \"cockroach\":\n",
    "        if computer == 'foot':\n",
    "            print(\"Computer: \", computer)\n",
    "            print(\"Player: \", player)\n",
    "            print(\"You lose!\")\n",
    "        if computer == 'bomb':\n",
    "            print(\"Computer: \", computer)\n",
    "            print(\"Player: \", player)\n",
    "            print(\"You win!\")\n",
    "    elif player == \"bomb\":\n",
    "        if computer == 'cockroach':\n",
    "            print(\"Computer: \", computer)\n",
    "            print(\"Player: \", player)\n",
    "            print(\"You lose!\")\n",
    "        if computer == 'foot':\n",
    "            print(\"Computer: \", computer)\n",
    "            print(\"Player: \", player)\n",
    "            print(\"You win!\")\n",
    "    elif player == \"foot\":\n",
    "        if computer == 'bomb':\n",
    "            print(\"Computer: \", computer)\n",
    "            print(\"Player: \", player)\n",
    "            print(\"You lose!\")\n",
    "        if computer == 'cockroach':\n",
    "            print(\"Computer: \", computer)\n",
    "            print(\"Player: \", player)\n",
    "            print(\"You win!\")\n",
    "    \n",
    "    play_again = input('Would you like to play again? (yes/no): ').lower()\n",
    "\n",
    "    if play_again != 'yes':\n",
    "        break\n",
    "\n",
    "print(\"\\nThank you for playing. Goodbye!\")\n",
    "\n",
    "#that 70s Show reference..."
   ]
  },
  {
   "cell_type": "code",
   "execution_count": null,
   "id": "631bfa7b",
   "metadata": {},
   "outputs": [],
   "source": []
  }
 ],
 "metadata": {
  "kernelspec": {
   "display_name": "Python 3 (ipykernel)",
   "language": "python",
   "name": "python3"
  },
  "language_info": {
   "codemirror_mode": {
    "name": "ipython",
    "version": 3
   },
   "file_extension": ".py",
   "mimetype": "text/x-python",
   "name": "python",
   "nbconvert_exporter": "python",
   "pygments_lexer": "ipython3",
   "version": "3.9.12"
  }
 },
 "nbformat": 4,
 "nbformat_minor": 5
}
